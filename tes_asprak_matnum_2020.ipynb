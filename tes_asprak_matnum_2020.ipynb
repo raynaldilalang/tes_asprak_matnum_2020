{
  "nbformat": 4,
  "nbformat_minor": 0,
  "metadata": {
    "colab": {
      "name": "tes_asprak_matnum_2020.ipynb",
      "provenance": [],
      "collapsed_sections": [],
      "authorship_tag": "ABX9TyO17oMl03eGUsOYsksypTE1",
      "include_colab_link": true
    },
    "kernelspec": {
      "name": "python3",
      "display_name": "Python 3"
    }
  },
  "cells": [
    {
      "cell_type": "markdown",
      "metadata": {
        "id": "view-in-github",
        "colab_type": "text"
      },
      "source": [
        "<a href=\"https://colab.research.google.com/github/raynaldilalang/tes_asprak_matnum_2020/blob/master/tes_asprak_matnum_2020.ipynb\" target=\"_parent\"><img src=\"https://colab.research.google.com/assets/colab-badge.svg\" alt=\"Open In Colab\"/></a>"
      ]
    },
    {
      "cell_type": "markdown",
      "metadata": {
        "id": "iYKIZkkCdLRg",
        "colab_type": "text"
      },
      "source": [
        "# Terima kasih telah mendaftarkan diri sebagai Asisten Praktikum Matematika Numerik 2020!\n",
        "One more step to go.\n",
        "Complete the assignments below by 11 Aug 2020, 23:59 (WIB)."
      ]
    },
    {
      "cell_type": "markdown",
      "metadata": {
        "id": "zHI-TeWxd8dT",
        "colab_type": "text"
      },
      "source": [
        "# 1. Let's test your coding skills\n",
        "Write a function ***isanagram(a,b)*** that takes two strings ***(a,b)*** and outputs a boolean: ***True*** if they are anagrams of each other and ***False*** otherwise.\n",
        "\n",
        "Your score is based on:\n",
        "1. Success rate\n",
        "2. Time complexity\n",
        "3. Readability (please comment your code)\n",
        "4. Submission time\n",
        "\n",
        "Note:\n",
        "1. Two strings are anagrams of each other if one string can be rearranged into the other.\n",
        "2. The strings should only be composed of letters (a-z, A-Z) and spaces (i.e., there should not be any numbers or symbols)\n",
        "3. The function should not be case sensitive, (e.g., 'ABc' and 'cab' are anagrams)\n",
        "4. Spaces are ignored (e.g., *'I am Lord Voldemort'* and *'Tom Marvolo Riddle'* are anagrams)\n",
        "5. If the input is invalid (non-string, string containing anything other than letters and spaces, etc.), the function should return the following message as a string object: ***'Invalid input'***\n",
        "6. Do not use any module other than the ones imported in this notebook.\n",
        "\n",
        "\n",
        "\n",
        "\n",
        "\n",
        "\n",
        "\n",
        "\n",
        "\n",
        "\n"
      ]
    },
    {
      "cell_type": "code",
      "metadata": {
        "id": "ZDviwC6ae6YS",
        "colab_type": "code",
        "colab": {}
      },
      "source": [
        "def isanagram(a,b):\n",
        "  ### TYPE IN YOUR ANSWER BELOW ###\n",
        "  "
      ],
      "execution_count": null,
      "outputs": []
    },
    {
      "cell_type": "code",
      "metadata": {
        "id": "DZbqGBPifg7o",
        "colab_type": "code",
        "cellView": "form",
        "colab": {
          "base_uri": "https://localhost:8080/",
          "height": 34
        },
        "outputId": "c50cea97-d28e-413a-b405-08405bf059a0"
      },
      "source": [
        "#@title Check your code\n",
        "\n",
        "string1 = '' #@param {type:\"string\"}\n",
        "string2 = '' #@param {type:\"string\"}\n",
        "\n",
        "print(isanagram(string1,string2))"
      ],
      "execution_count": null,
      "outputs": [
        {
          "output_type": "stream",
          "text": [
            "True\n"
          ],
          "name": "stdout"
        }
      ]
    },
    {
      "cell_type": "markdown",
      "metadata": {
        "id": "a7dRBpNMeYh5",
        "colab_type": "text"
      },
      "source": [
        "# 2. Debug this code"
      ]
    },
    {
      "cell_type": "code",
      "metadata": {
        "id": "EOWTJsRKezSR",
        "colab_type": "code",
        "colab": {
          "base_uri": "https://localhost:8080/",
          "height": 128
        },
        "outputId": "071ad6fa-fea5-4109-ab51-fcadccec9dd4"
      },
      "source": [
        "import numpy as np\n",
        "def matrix_multiplication(X,Y):\n",
        "  # Program to multiply two matrices using nested loops\n",
        "\n",
        "  for i in range(X)):\n",
        "    # iterate through columns of Y\n",
        "    for j in range(Y):\n",
        "        # iterate through rows of Y\n",
        "        for k in range(Y):\n",
        "            result[i][j] += X[i][k] * Y[k][j]\n",
        "  return result\n",
        "\n",
        "### DO NOT EDIT THIS PART ###\n",
        "\n",
        "# 3x3 matrix\n",
        "X = [[12,7,3],\n",
        "    [4 ,5,6],\n",
        "    [7 ,8,9]]\n",
        "# 3x4 matrix\n",
        "Y = [[5,8,1,2],\n",
        "    [6,7,3,0],\n",
        "    [4,5,9,1]]\n",
        "\n",
        "print(np.array(matrix_multiplication(X,Y)))\n",
        "\n",
        "##############################"
      ],
      "execution_count": null,
      "outputs": [
        {
          "output_type": "error",
          "ename": "SyntaxError",
          "evalue": "ignored",
          "traceback": [
            "\u001b[0;36m  File \u001b[0;32m\"<ipython-input-3-657296d2394a>\"\u001b[0;36m, line \u001b[0;32m5\u001b[0m\n\u001b[0;31m    for i in range(X)):\u001b[0m\n\u001b[0m                     ^\u001b[0m\n\u001b[0;31mSyntaxError\u001b[0m\u001b[0;31m:\u001b[0m invalid syntax\n"
          ]
        }
      ]
    }
  ]
}